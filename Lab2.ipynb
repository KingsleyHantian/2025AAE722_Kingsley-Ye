{
 "cells": [
  {
   "cell_type": "markdown",
   "metadata": {},
   "source": [
    "# Lab 2: Python Basics and NumPy\n",
    "\n",
    "**Student:** Kingsley Ye  \n",
    "**Course:** AAE 722 Machine Learning  \n",
    "**Lab:** 2\n",
    "\n",
    "## Instructions\n",
    "Complete all sections below. Clearly label each code cell with the question it answers."
   ]
  },
  {
   "cell_type": "markdown",
   "metadata": {},
   "source": [
    "## 1. Python Lists and Tuples\n",
    "\n",
    "**Question:** Create a list numbers = [10, 20, 30], change the second element to 99, and print the result. Then, create a tuple (1, 2, 3) and try to change the first element; note the error message."
   ]
  },
  {
   "cell_type": "code",
   "execution_count": null,
   "metadata": {},
   "outputs": [],
   "source": [
    "# Create a list and modify the second element\n",
    "numbers = [10, 20, 30]\n",
    "print(\"Original list:\", numbers)\n",
    "\n",
    "# Change the second element (index 1) to 99\n",
    "numbers[1] = 99\n",
    "print(\"Modified list:\", numbers)\n",
    "\n",
    "# Create a tuple\n",
    "my_tuple = (1, 2, 3)\n",
    "print(\"Original tuple:\", my_tuple)\n",
    "\n",
    "# Try to change the first element of the tuple (this will cause an error)\n",
    "try:\n",
    "    my_tuple[0] = 99\n",
    "except TypeError as e:\n",
    "    print(\"Error when trying to modify tuple:\", e)\n",
    "    print(\"Tuples are immutable - their elements cannot be changed after creation\")"
   ]
  },
  {
   "cell_type": "markdown",
   "metadata": {},
   "source": [
    "## 2. NumPy Arrays\n",
    "\n",
    "**Question:** Import NumPy as np. Create a 2x3 array with values from 1 to 6, print its shape, and add 2 to every element."
   ]
  },
  {
   "cell_type": "code",
   "execution_count": null,
   "metadata": {},
   "outputs": [],
   "source": [
    "# Import NumPy\n",
    "import numpy as np\n",
    "\n",
    "# Create a 2x3 array with values from 1 to 6\n",
    "arr = np.array([[1, 2, 3], [4, 5, 6]])\n",
    "print(\"Original array:\")\n",
    "print(arr)\n",
    "\n",
    "# Print the shape of the array\n",
    "print(\"\\nShape of the array:\", arr.shape)\n",
    "\n",
    "# Add 2 to every element\n",
    "arr_plus_2 = arr + 2\n",
    "print(\"\\nArray after adding 2 to every element:\")\n",
    "print(arr_plus_2)"
   ]
  },
  {
   "cell_type": "markdown",
   "metadata": {},
   "source": [
    "## 3. Random Numbers and Statistics\n",
    "\n",
    "**Question:** Set the NumPy random seed to 42. Generate 5 random numbers from a standard normal distribution and print their mean and standard deviation."
   ]
  },
  {
   "cell_type": "code",
   "execution_count": null,
   "metadata": {},
   "outputs": [],
   "source": [
    "# Set the random seed to 42\n",
    "np.random.seed(42)\n",
    "\n",
    "# Generate 5 random numbers from a standard normal distribution\n",
    "random_numbers = np.random.normal(0, 1, 5)\n",
    "print(\"Generated random numbers:\", random_numbers)\n",
    "\n",
    "# Calculate and print the mean\n",
    "mean_value = np.mean(random_numbers)\n",
    "print(\"\\nMean:\", mean_value)\n",
    "\n",
    "# Calculate and print the standard deviation\n",
    "std_value = np.std(random_numbers)\n",
    "print(\"Standard deviation:\", std_value)\n",
    "\n",
    "# Verify with alternative methods\n",
    "print(\"\\nVerification:\")\n",
    "print(\"Mean (using .mean() method):\", random_numbers.mean())\n",
    "print(\"Standard deviation (using .std() method):\", random_numbers.std())"
   ]
  },
  {
   "cell_type": "markdown",
   "metadata": {},
   "source": [
    "## 4. Plotting\n",
    "\n",
    "**Question:** Create a scatter plot of x = [1, 2, 3] and y = [4, 5, 6] using matplotlib. Label the axes and set a title."
   ]
  },
  {
   "cell_type": "code",
   "execution_count": null,
   "metadata": {},
   "outputs": [],
   "source": [
    "# Import matplotlib\n",
    "import matplotlib.pyplot as plt\n",
    "\n",
    "# Define the data points\n",
    "x = [1, 2, 3]\n",
    "y = [4, 5, 6]\n",
    "\n",
    "# Create the scatter plot\n",
    "plt.figure(figsize=(8, 6))\n",
    "plt.scatter(x, y, s=100, alpha=0.7, color=\"blue\")\n",
    "\n",
    "# Label the axes and set title\n",
    "plt.xlabel(\"X values\")\n",
    "plt.ylabel(\"Y values\")\n",
    "plt.title(\"Scatter Plot of X vs Y\")\n",
    "\n",
    "# Add grid for better readability\n",
    "plt.grid(True, alpha=0.3)\n",
    "\n",
    "# Show the plot\n",
    "plt.show()\n",
    "\n",
    "# Print the data points for reference\n",
    "print(\"Data points:\")\n",
    "for i in range(len(x)):\n",
    "    print(f\"({x[i]}, {y[i]})\")"
   ]
  },
  {
   "cell_type": "markdown",
   "metadata": {},
   "source": [
    "## 5. Indexing in NumPy\n",
    "\n",
    "**Question:** Create a 4x4 array with values 0 to 15. Print the second row and all elements greater than 10."
   ]
  },
  {
   "cell_type": "code",
   "execution_count": null,
   "metadata": {},
   "outputs": [],
   "source": [
    "# Create a 4x4 array with values 0 to 15\n",
    "arr_4x4 = np.arange(16).reshape(4, 4)\n",
    "print(\"4x4 array with values 0 to 15:\")\n",
    "print(arr_4x4)\n",
    "\n",
    "# Print the second row (index 1)\n",
    "print(\"\\nSecond row (index 1):\")\n",
    "print(arr_4x4[1, :])\n",
    "\n",
    "# Find and print all elements greater than 10\n",
    "elements_greater_than_10 = arr_4x4[arr_4x4 > 10]\n",
    "print(\"\\nAll elements greater than 10:\")\n",
    "print(elements_greater_than_10)\n",
    "\n",
    "# Show the positions of elements greater than 10\n",
    "positions = np.where(arr_4x4 > 10)\n",
    "print(\"\\nPositions (row, col) of elements > 10:\")\n",
    "for i in range(len(positions[0])):\n",
    "    row, col = positions[0][i], positions[1][i]\n",
    "    value = arr_4x4[row, col]\n",
    "    print(f\"Position ({row}, {col}): value = {value}\")"
   ]
  },
  {
   "cell_type": "markdown",
   "metadata": {},
   "source": [
    "## Summary\n",
    "\n",
    "This lab covered the following Python and NumPy concepts:\n",
    "\n",
    "1. **Python Lists and Tuples**: Demonstrated list mutability and tuple immutability\n",
    "2. **NumPy Arrays**: Created arrays, accessed shape, and performed element-wise operations\n",
    "3. **Random Numbers and Statistics**: Set random seeds and calculated basic statistics\n",
    "4. **Plotting**: Created scatter plots with proper labeling using matplotlib\n",
    "5. **Indexing**: Used various indexing techniques to access specific elements and subsets\n",
    "\n",
    "All tasks have been completed successfully with clear explanations and proper code organization."
   ]
  }
 ],
 "metadata": {
  "kernelspec": {
   "display_name": "Python 3",
   "language": "python",
   "name": "python3"
  },
  "language_info": {
   "codemirror_mode": {
    "name": "ipython",
    "version": 3
   },
   "file_extension": ".py",
   "mimetype": "text/x-python",
   "name": "python",
   "nbconvert_exporter": "python",
   "pygments_lexer": "ipython3",
   "version": "3.8.5"
  }
 },
 "nbformat": 4,
 "nbformat_minor": 4
}
