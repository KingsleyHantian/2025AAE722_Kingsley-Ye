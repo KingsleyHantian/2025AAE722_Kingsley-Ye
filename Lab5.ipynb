{
  "cells": [
    {
      "cell_type": "markdown",
      "metadata": {},
      "source": [
        "# Lab 5: Cross-Validation and the Bootstrap\n",
        "\n",
        "Kingsley Ye  \n",
        "AAE 722 Machine Learning  \n",
        "Lab5\n",
        "\n"
      ]
    },
    {
      "cell_type": "markdown",
      "metadata": {},
      "source": [
        "## Import Required Libraries\n"
      ]
    },
    {
      "cell_type": "code",
      "execution_count": 2,
      "metadata": {},
      "outputs": [],
      "source": [
        "import numpy as np\n",
        "import pandas as pd\n",
        "import statsmodels.api as sm\n",
        "from ISLP import load_data\n",
        "from ISLP.models import (ModelSpec as MS, summarize, poly)\n",
        "from sklearn.model_selection import (train_test_split, cross_validate, KFold)\n",
        "from sklearn.base import clone\n",
        "from ISLP.models import sklearn_sm\n",
        "from functools import partial\n",
        "import warnings\n",
        "warnings.filterwarnings('ignore')\n"
      ]
    },
    {
      "cell_type": "markdown",
      "metadata": {},
      "source": [
        "## 1. Validation Set Approach\n",
        "\n",
        "**Question:** Use the Boston dataset from the ISLP library to predict medv (median home value) using lstat (percentage of lower status population). Split the data into training and validation sets with exactly 253 observations in each set using random_state=42 for reproducibility. Fit polynomial models of degrees 1, 2, 3, and 4 using the training set, calculate validation MSE for each polynomial degree, and report your results as a numpy array with exactly 4 elements, rounded to 2 decimal places.\n"
      ]
    },
    {
      "cell_type": "code",
      "execution_count": 3,
      "metadata": {},
      "outputs": [
        {
          "name": "stdout",
          "output_type": "stream",
          "text": [
            "Boston dataset shape: (506, 13)\n",
            "Total observations: 506\n",
            "Training set size: 253\n",
            "Validation set size: 253\n"
          ]
        }
      ],
      "source": [
        "# Load Boston dataset\n",
        "Boston = load_data('Boston')\n",
        "print(f\"Boston dataset shape: {Boston.shape}\")\n",
        "print(f\"Total observations: {Boston.shape[0]}\")\n",
        "\n",
        "# Split data into training and validation sets (253 observations each)\n",
        "Boston_train, Boston_valid = train_test_split(Boston, \n",
        "                                            test_size=253, \n",
        "                                            random_state=42)\n",
        "\n",
        "print(f\"Training set size: {Boston_train.shape[0]}\")\n",
        "print(f\"Validation set size: {Boston_valid.shape[0]}\")\n"
      ]
    },
    {
      "cell_type": "code",
      "execution_count": 4,
      "metadata": {},
      "outputs": [
        {
          "name": "stdout",
          "output_type": "stream",
          "text": [
            "Validation MSE for polynomial degrees 1, 2, 3, 4:\n",
            "[38.51 30.84 29.22 27.75]\n",
            "\n",
            "Results as numpy array: [38.51 30.84 29.22 27.75]\n"
          ]
        }
      ],
      "source": [
        "# Function to evaluate MSE for polynomial models\n",
        "def evalMSE(terms, response, train, test):\n",
        "    mm = MS(terms)\n",
        "    X_train = mm.fit_transform(train)\n",
        "    y_train = train[response]\n",
        "    \n",
        "    X_test = mm.transform(test)\n",
        "    y_test = test[response]\n",
        "    \n",
        "    results = sm.OLS(y_train, X_train).fit()\n",
        "    test_pred = results.predict(X_test)\n",
        "    \n",
        "    return np.mean((y_test - test_pred)**2)\n",
        "\n",
        "# Calculate validation MSE for polynomial degrees 1, 2, 3, 4\n",
        "MSE = np.zeros(4)\n",
        "for idx, degree in enumerate(range(1, 5)):\n",
        "    MSE[idx] = evalMSE([poly('lstat', degree)], \n",
        "                       'medv',\n",
        "                       Boston_train,\n",
        "                       Boston_valid)\n",
        "\n",
        "# Round to 2 decimal places\n",
        "MSE_rounded = np.round(MSE, 2)\n",
        "print(\"Validation MSE for polynomial degrees 1, 2, 3, 4:\")\n",
        "print(MSE_rounded)\n",
        "print(f\"\\nResults as numpy array: {MSE_rounded}\")\n"
      ]
    },
    {
      "cell_type": "markdown",
      "metadata": {},
      "source": [
        "## 2. Leave-One-Out Cross-Validation\n",
        "\n",
        "**Question:** Using the College dataset, predict Outstate (out-of-state tuition) using Room.Board (room and board costs). Implement LOOCV for polynomial degrees 1 through 5 using the sklearn_sm wrapper with cross_validate, setting cv=n where n is the total number of observations for LOOCV. Calculate the mean cross-validation error for each polynomial degree and report your results as a numpy array rounded to 2 decimal places.\n"
      ]
    },
    {
      "cell_type": "code",
      "execution_count": 5,
      "metadata": {},
      "outputs": [
        {
          "name": "stdout",
          "output_type": "stream",
          "text": [
            "College dataset shape: (777, 18)\n",
            "Total observations: 777\n",
            "Number of observations for LOOCV: 777\n"
          ]
        }
      ],
      "source": [
        "# Load College dataset\n",
        "College = load_data('College')\n",
        "print(f\"College dataset shape: {College.shape}\")\n",
        "print(f\"Total observations: {College.shape[0]}\")\n",
        "\n",
        "# Prepare data for LOOCV\n",
        "X = College[['Room.Board']]\n",
        "Y = College['Outstate']\n",
        "n = College.shape[0]\n",
        "print(f\"Number of observations for LOOCV: {n}\")\n"
      ]
    },
    {
      "cell_type": "code",
      "execution_count": 6,
      "metadata": {},
      "outputs": [
        {
          "name": "stdout",
          "output_type": "stream",
          "text": [
            "LOOCV errors for polynomial degrees 1, 2, 3, 4, 5:\n",
            "[9291471.1  9255509.68 9263314.52 9269406.45 9300815.88]\n",
            "\n",
            "Results as numpy array: [9291471.1  9255509.68 9263314.52 9269406.45 9300815.88]\n"
          ]
        }
      ],
      "source": [
        "# Implement LOOCV for polynomial degrees 1 through 5\n",
        "cv_error = np.zeros(5)\n",
        "H = np.array(College['Room.Board'])\n",
        "M = sklearn_sm(sm.OLS)\n",
        "\n",
        "for i, d in enumerate(range(1, 6)):\n",
        "    # Create polynomial features\n",
        "    X_poly = np.power.outer(H, np.arange(d+1))\n",
        "    \n",
        "    # Perform LOOCV (cv=n for leave-one-out)\n",
        "    M_CV = cross_validate(M, X_poly, Y, cv=n)\n",
        "    cv_error[i] = np.mean(M_CV['test_score'])\n",
        "\n",
        "# Round to 2 decimal places\n",
        "cv_error_rounded = np.round(cv_error, 2)\n",
        "print(\"LOOCV errors for polynomial degrees 1, 2, 3, 4, 5:\")\n",
        "print(cv_error_rounded)\n",
        "print(f\"\\nResults as numpy array: {cv_error_rounded}\")\n"
      ]
    },
    {
      "cell_type": "markdown",
      "metadata": {},
      "source": [
        "## 3. K-Fold Cross-Validation Comparison\n",
        "\n",
        "**Question:** Continue with the College dataset from Question 2, but now compare 5-fold and 10-fold cross-validation using polynomial degrees 1, 2, and 3 only. For 5-fold CV use KFold(n_splits=5, shuffle=True, random_state=123) and for 10-fold CV use KFold(n_splits=10, shuffle=True, random_state=123). Calculate mean CV errors for each degree and each fold configuration, then report the difference between 5-fold and 10-fold CV errors for each polynomial degree, rounding all results to 3 decimal places.\n"
      ]
    },
    {
      "cell_type": "code",
      "execution_count": 7,
      "metadata": {},
      "outputs": [
        {
          "name": "stdout",
          "output_type": "stream",
          "text": [
            "5-fold CV errors for degrees 1, 2, 3:\n",
            "[9377937.163 9345970.983 9385687.251]\n",
            "\n",
            "10-fold CV errors for degrees 1, 2, 3:\n",
            "[9315542.59  9281464.281 9293767.868]\n",
            "\n",
            "Differences (5-fold - 10-fold) for degrees 1, 2, 3:\n",
            "[62394.573 64506.702 91919.384]\n",
            "\n",
            "Results as numpy array: [62394.573 64506.702 91919.384]\n"
          ]
        }
      ],
      "source": [
        "# Set up K-Fold cross-validation strategies\n",
        "cv_5fold = KFold(n_splits=5, shuffle=True, random_state=123)\n",
        "cv_10fold = KFold(n_splits=10, shuffle=True, random_state=123)\n",
        "\n",
        "# Calculate CV errors for 5-fold and 10-fold\n",
        "cv_error_5fold = np.zeros(3)\n",
        "cv_error_10fold = np.zeros(3)\n",
        "\n",
        "for i, d in enumerate(range(1, 4)):  # degrees 1, 2, 3\n",
        "    # Create polynomial features\n",
        "    X_poly = np.power.outer(H, np.arange(d+1))\n",
        "    \n",
        "    # 5-fold CV\n",
        "    M_CV_5 = cross_validate(M, X_poly, Y, cv=cv_5fold)\n",
        "    cv_error_5fold[i] = np.mean(M_CV_5['test_score'])\n",
        "    \n",
        "    # 10-fold CV\n",
        "    M_CV_10 = cross_validate(M, X_poly, Y, cv=cv_10fold)\n",
        "    cv_error_10fold[i] = np.mean(M_CV_10['test_score'])\n",
        "\n",
        "# Calculate differences\n",
        "differences = cv_error_5fold - cv_error_10fold\n",
        "\n",
        "# Round to 3 decimal places\n",
        "cv_error_5fold_rounded = np.round(cv_error_5fold, 3)\n",
        "cv_error_10fold_rounded = np.round(cv_error_10fold, 3)\n",
        "differences_rounded = np.round(differences, 3)\n",
        "\n",
        "print(\"5-fold CV errors for degrees 1, 2, 3:\")\n",
        "print(cv_error_5fold_rounded)\n",
        "print(\"\\n10-fold CV errors for degrees 1, 2, 3:\")\n",
        "print(cv_error_10fold_rounded)\n",
        "print(\"\\nDifferences (5-fold - 10-fold) for degrees 1, 2, 3:\")\n",
        "print(differences_rounded)\n",
        "print(f\"\\nResults as numpy array: {differences_rounded}\")\n"
      ]
    },
    {
      "cell_type": "markdown",
      "metadata": {},
      "source": [
        "## 4. Bootstrap Standard Errors\n",
        "\n",
        "**Question:** Use the Default dataset to estimate the standard error of the correlation coefficient between balance and income using bootstrap resampling. Create a function that computes the correlation coefficient between balance and income, implement bootstrap resampling with B=2000 iterations using random_state=456 for the random number generator, and calculate the bootstrap standard error of the correlation coefficient. Also compute the actual correlation coefficient on the full dataset and round both results to 4 decimal places.\n"
      ]
    },
    {
      "cell_type": "code",
      "execution_count": 8,
      "metadata": {},
      "outputs": [
        {
          "name": "stdout",
          "output_type": "stream",
          "text": [
            "Default dataset shape: (10000, 4)\n",
            "\n",
            "First few rows:\n",
            "  default student      balance        income\n",
            "0      No      No   729.526495  44361.625074\n",
            "1      No     Yes   817.180407  12106.134700\n",
            "2      No      No  1073.549164  31767.138947\n",
            "3      No      No   529.250605  35704.493935\n",
            "4      No      No   785.655883  38463.495879\n"
          ]
        }
      ],
      "source": [
        "# Load Default dataset\n",
        "Default = load_data('Default')\n",
        "print(f\"Default dataset shape: {Default.shape}\")\n",
        "print(\"\\nFirst few rows:\")\n",
        "print(Default.head())\n"
      ]
    },
    {
      "cell_type": "code",
      "execution_count": 9,
      "metadata": {},
      "outputs": [
        {
          "name": "stdout",
          "output_type": "stream",
          "text": [
            "Actual correlation coefficient: -0.1522\n",
            "Bootstrap standard error: 0.0098\n",
            "\n",
            "Results: correlation = -0.1522, SE = 0.0098\n"
          ]
        }
      ],
      "source": [
        "# Function to compute correlation coefficient\n",
        "def corr_func(D, idx):\n",
        "    return np.corrcoef(D['balance'].loc[idx], D['income'].loc[idx])[0, 1]\n",
        "\n",
        "# Bootstrap function for standard error\n",
        "def boot_SE(func, D, n=None, B=1000, seed=0):\n",
        "    rng = np.random.default_rng(seed)\n",
        "    first_, second_ = 0, 0\n",
        "    n = n or D.shape[0]\n",
        "    \n",
        "    for _ in range(B):\n",
        "        idx = rng.choice(D.index, n, replace=True)\n",
        "        value = func(D, idx)\n",
        "        first_ += value\n",
        "        second_ += value**2\n",
        "    \n",
        "    return np.sqrt(second_ / B - (first_ / B)**2)\n",
        "\n",
        "# Calculate actual correlation coefficient on full dataset\n",
        "actual_corr = np.corrcoef(Default['balance'], Default['income'])[0, 1]\n",
        "\n",
        "# Calculate bootstrap standard error\n",
        "bootstrap_se = boot_SE(corr_func, Default, B=2000, seed=456)\n",
        "\n",
        "# Round to 4 decimal places\n",
        "actual_corr_rounded = np.round(actual_corr, 4)\n",
        "bootstrap_se_rounded = np.round(bootstrap_se, 4)\n",
        "\n",
        "print(f\"Actual correlation coefficient: {actual_corr_rounded}\")\n",
        "print(f\"Bootstrap standard error: {bootstrap_se_rounded}\")\n",
        "print(f\"\\nResults: correlation = {actual_corr_rounded}, SE = {bootstrap_se_rounded}\")\n"
      ]
    },
    {
      "cell_type": "markdown",
      "metadata": {},
      "source": [
        "## 5. Bootstrap vs. Traditional Standard Errors\n",
        "\n",
        "**Question:** Using the Wage dataset, fit both linear and polynomial (degree 2) regression models to predict wage using age. For each model calculate bootstrap standard errors for all coefficients (B=1500, seed=789) and traditional OLS standard errors using summarize(), then compare the ratio of bootstrap SE to OLS SE for each coefficient. Report results for the quadratic model only (3 coefficients: intercept, age, age²), rounding all ratios to 3 decimal places.\n"
      ]
    },
    {
      "cell_type": "code",
      "execution_count": 10,
      "metadata": {},
      "outputs": [
        {
          "name": "stdout",
          "output_type": "stream",
          "text": [
            "Wage dataset shape: (3000, 11)\n",
            "\n",
            "First few rows:\n",
            "   year  age            maritl      race        education              region  \\\n",
            "0  2006   18  1. Never Married  1. White     1. < HS Grad  2. Middle Atlantic   \n",
            "1  2004   24  1. Never Married  1. White  4. College Grad  2. Middle Atlantic   \n",
            "2  2003   45        2. Married  1. White  3. Some College  2. Middle Atlantic   \n",
            "3  2003   43        2. Married  3. Asian  4. College Grad  2. Middle Atlantic   \n",
            "4  2005   50       4. Divorced  1. White       2. HS Grad  2. Middle Atlantic   \n",
            "\n",
            "         jobclass          health health_ins   logwage        wage  \n",
            "0   1. Industrial       1. <=Good      2. No  4.318063   75.043154  \n",
            "1  2. Information  2. >=Very Good      2. No  4.255273   70.476020  \n",
            "2   1. Industrial       1. <=Good     1. Yes  4.875061  130.982177  \n",
            "3  2. Information  2. >=Very Good     1. Yes  5.041393  154.685293  \n",
            "4  2. Information       1. <=Good     1. Yes  4.318063   75.043154  \n"
          ]
        }
      ],
      "source": [
        "# Load Wage dataset\n",
        "Wage = load_data('Wage')\n",
        "print(f\"Wage dataset shape: {Wage.shape}\")\n",
        "print(\"\\nFirst few rows:\")\n",
        "print(Wage.head())\n"
      ]
    },
    {
      "cell_type": "code",
      "execution_count": 11,
      "metadata": {},
      "outputs": [
        {
          "name": "stdout",
          "output_type": "stream",
          "text": [
            "Bootstrap standard errors for quadratic model:\n",
            "intercept                           6.138718\n",
            "poly(age, degree=2, raw=True)[0]    0.313841\n",
            "poly(age, degree=2, raw=True)[1]    0.003725\n",
            "dtype: float64\n",
            "\n",
            "Traditional OLS standard errors for quadratic model:\n",
            "intercept                           8.190\n",
            "poly(age, degree=2, raw=True)[0]    0.389\n",
            "poly(age, degree=2, raw=True)[1]    0.004\n",
            "Name: std err, dtype: float64\n",
            "\n",
            "Ratios (Bootstrap SE / OLS SE) for quadratic model:\n",
            "intercept                           0.750\n",
            "poly(age, degree=2, raw=True)[0]    0.807\n",
            "poly(age, degree=2, raw=True)[1]    0.931\n",
            "dtype: float64\n",
            "\n",
            "Results as numpy array: intercept                           0.750\n",
            "poly(age, degree=2, raw=True)[0]    0.807\n",
            "poly(age, degree=2, raw=True)[1]    0.931\n",
            "dtype: float64\n"
          ]
        }
      ],
      "source": [
        "# Function to bootstrap OLS coefficients\n",
        "def boot_OLS(model_matrix, response, D, idx):\n",
        "    D_ = D.loc[idx]\n",
        "    Y_ = D_[response]\n",
        "    X_ = clone(model_matrix).fit_transform(D_)\n",
        "    return sm.OLS(Y_, X_).fit().params\n",
        "\n",
        "# Fit quadratic model (degree 2)\n",
        "quad_model = MS([poly('age', 2, raw=True)])\n",
        "quad_func = partial(boot_OLS, quad_model, 'wage')\n",
        "\n",
        "# Calculate bootstrap standard errors for quadratic model\n",
        "bootstrap_se_quad = boot_SE(quad_func, Wage, B=1500, seed=789)\n",
        "\n",
        "# Calculate traditional OLS standard errors for quadratic model\n",
        "X_quad = quad_model.fit_transform(Wage)\n",
        "Y = Wage['wage']\n",
        "M_quad = sm.OLS(Y, X_quad).fit()\n",
        "traditional_se_quad = summarize(M_quad)['std err']\n",
        "\n",
        "# Calculate ratios (bootstrap SE / OLS SE)\n",
        "ratios = bootstrap_se_quad / traditional_se_quad\n",
        "\n",
        "# Round to 3 decimal places\n",
        "ratios_rounded = np.round(ratios, 3)\n",
        "\n",
        "print(\"Bootstrap standard errors for quadratic model:\")\n",
        "print(bootstrap_se_quad)\n",
        "print(\"\\nTraditional OLS standard errors for quadratic model:\")\n",
        "print(traditional_se_quad)\n",
        "print(\"\\nRatios (Bootstrap SE / OLS SE) for quadratic model:\")\n",
        "print(ratios_rounded)\n",
        "print(f\"\\nResults as numpy array: {ratios_rounded}\")\n"
      ]
    },
    {
      "cell_type": "markdown",
      "metadata": {},
      "source": [
        "## Summary\n",
        "\n",
        "1. **Validation Set Approach**: Demonstrated how to split data and evaluate polynomial models of different degrees\n",
        "2. **Leave-One-Out Cross-Validation**: Implemented LOOCV using sklearn's cross_validate function\n",
        "3. **K-Fold Cross-Validation**: Compared 5-fold and 10-fold CV strategies\n",
        "4. **Bootstrap Standard Errors**: Estimated standard errors for correlation coefficients using bootstrap resampling\n",
        "5. **Bootstrap vs. Traditional SE**: Compared bootstrap and traditional standard errors for regression coefficients\n"
      ]
    },
    {
      "cell_type": "markdown",
      "metadata": {},
      "source": []
    }
  ],
  "metadata": {
    "kernelspec": {
      "display_name": "base",
      "language": "python",
      "name": "python3"
    },
    "language_info": {
      "codemirror_mode": {
        "name": "ipython",
        "version": 3
      },
      "file_extension": ".py",
      "mimetype": "text/x-python",
      "name": "python",
      "nbconvert_exporter": "python",
      "pygments_lexer": "ipython3",
      "version": "3.12.7"
    }
  },
  "nbformat": 4,
  "nbformat_minor": 2
}
