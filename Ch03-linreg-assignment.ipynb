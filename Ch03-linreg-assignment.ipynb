{
  "cells": [
    {
      "cell_type": "markdown",
      "metadata": {},
      "source": [
        "# Ch03 Assignment: Linear Regression on College (ISLP)\n",
        "\n",
        "\n",
        "1) Load `College` via ISLP; display first 10 rows; list all columns; briefly describe key variables.\n",
        "2) Simple regression: `Outstate ~ Top10perc`; report coefficients and interpret sign/size.\n",
        "3) Multiple regression: `Outstate ~ Top10perc + Room.Board + PhD`; report and interpret.\n",
        "4) Add quadratic term for `Top10perc`; report and interpret the quadratic effect.\n",
        "5) Compare linear vs quadratic with `anova_lm`; report F-statistic, p-value, and conclusion.\n",
        "\n"
      ]
    },
    {
      "cell_type": "code",
      "execution_count": null,
      "metadata": {},
      "outputs": [],
      "source": [
        "# Install ISLP if missing; import libraries\n",
        "import sys, subprocess\n",
        "\n",
        "def ensure(pkg):\n",
        "    try:\n",
        "        __import__(pkg)\n",
        "    except ImportError:\n",
        "        print(f\"Installing {pkg}...\")\n",
        "        subprocess.check_call([sys.executable, \"-m\", \"pip\", \"install\", pkg, \"--quiet\"])    \n",
        "\n",
        "for p in [\"ISLP\", \"pandas\", \"numpy\", \"statsmodels\", \"matplotlib\", \"seaborn\"]:\n",
        "    ensure(p.split(\"[\")[0])\n",
        "\n",
        "import pandas as pd\n",
        "import numpy as np\n",
        "import seaborn as sns\n",
        "import matplotlib.pyplot as plt\n",
        "import statsmodels.api as sm\n",
        "import statsmodels.formula.api as smf\n",
        "from statsmodels.stats.anova import anova_lm\n",
        "from ISLP import load_data\n",
        "\n",
        "pd.set_option('display.float_format', lambda x: f\"{x:,.2f}\")\n",
        "print(\"Versions -> pandas:\", pd.__version__, \", statsmodels:\", sm.__version__)\n"
      ]
    },
    {
      "cell_type": "code",
      "execution_count": null,
      "metadata": {},
      "outputs": [],
      "source": [
        "# Load and inspect dataset\n",
        "college = load_data('College')\n",
        "print(f\"Shape: {college.shape}\")\n",
        "first10 = college.head(10)\n",
        "first10\n"
      ]
    },
    {
      "cell_type": "code",
      "execution_count": null,
      "metadata": {},
      "outputs": [],
      "source": [
        "# List all column names\n",
        "columns = list(college.columns)\n",
        "columns\n"
      ]
    },
    {
      "cell_type": "markdown",
      "metadata": {},
      "source": [
        "### Brief dataset description and key variables\n",
        "\n",
        "The `College` dataset contains information about U.S. colleges, including tuition, admissions selectivity, expenditures, and faculty characteristics.\n",
        "\n",
        "- **Outstate**: Out-of-state tuition (USD).\n",
        "- **Private**: College control (`Yes`/`No`).\n",
        "- **Room.Board**: Annual room and board costs (USD).\n",
        "- **PhD**: Percentage of faculty with PhD degrees.\n",
        "- **Top10perc**: Percentage of new students from the top 10% of their high school class.\n"
      ]
    },
    {
      "cell_type": "code",
      "execution_count": null,
      "metadata": {},
      "outputs": [],
      "source": [
        "# Simple linear regression: Outstate ~ Top10perc\n",
        "model_simple = smf.ols('Outstate ~ Top10perc', data=college).fit()\n",
        "print(model_simple.summary())\n",
        "\n",
        "# Coefficient report and brief interpretation\n",
        "intercept = model_simple.params['Intercept']\n",
        "slope = model_simple.params['Top10perc']\n",
        "print(f\"\\nEstimated coefficients:\\n  Intercept: {intercept:,.2f}\\n  Top10perc: {slope:,.2f} (USD per 1% increase)\")\n",
        "print(\"Interpretation: Holding other factors aside (simple model), higher Top10perc is associated with a change in Outstate by the slope per percentage point.\")\n"
      ]
    },
    {
      "cell_type": "code",
      "execution_count": null,
      "metadata": {},
      "outputs": [],
      "source": [
        "# Multiple linear regression: Outstate ~ Top10perc + Room.Board + PhD\n",
        "model_multi = smf.ols('Outstate ~ Top10perc + Room.Board + PhD', data=college).fit()\n",
        "print(model_multi.summary())\n",
        "\n",
        "print(\"\\nCoefficient interpretations (holding others constant):\")\n",
        "for name in ['Top10perc', 'Room.Board', 'PhD']:\n",
        "    print(f\"  {name}: {model_multi.params[name]:,.2f}\")\n"
      ]
    },
    {
      "cell_type": "code",
      "execution_count": null,
      "metadata": {},
      "outputs": [],
      "source": [
        "# Quadratic term for Top10perc\n",
        "model_quad = smf.ols('Outstate ~ Top10perc + I(Top10perc**2) + Room.Board + PhD', data=college).fit()\n",
        "print(model_quad.summary())\n",
        "\n",
        "quad_coef = model_quad.params['I(Top10perc ** 2)']\n",
        "print(f\"\\nQuadratic term coefficient (Top10perc^2): {quad_coef:,.4f}\")\n",
        "print(\"Interpretation: A significant nonzero coefficient suggests a nonlinear relationship between Top10perc and Outstate.\")\n"
      ]
    },
    {
      "cell_type": "code",
      "execution_count": null,
      "metadata": {},
      "outputs": [],
      "source": [
        "# ANOVA comparison: linear vs quadratic models\n",
        "model_linear = smf.ols('Outstate ~ Top10perc + Room.Board + PhD', data=college).fit()\n",
        "anova_results = anova_lm(model_linear, model_quad)\n",
        "print(anova_results)\n",
        "\n",
        "f_stat = anova_results['F'][1]\n",
        "p_val = anova_results['Pr(>F)'][1]\n",
        "print(f\"\\nF-statistic: {f_stat:,.3f}, p-value: {p_val:.4g}\")\n",
        "print(\"Conclusion:\", \"Quadratic term significantly improves the model.\" if p_val < 0.05 else \"No significant improvement from quadratic term.\")\n"
      ]
    }
  ],
  "metadata": {
    "language_info": {
      "name": "python"
    }
  },
  "nbformat": 4,
  "nbformat_minor": 2
}
